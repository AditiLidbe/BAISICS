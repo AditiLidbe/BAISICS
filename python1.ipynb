{
  "nbformat": 4,
  "nbformat_minor": 0,
  "metadata": {
    "colab": {
      "provenance": []
    },
    "kernelspec": {
      "name": "python3",
      "display_name": "Python 3"
    },
    "language_info": {
      "name": "python"
    }
  },
  "cells": [
    {
      "cell_type": "markdown",
      "source": [
        "# **PYTHON BASICS **\n"
      ],
      "metadata": {
        "id": "eNIL8zDS5jZH"
      }
    },
    {
      "cell_type": "markdown",
      "source": [
        "**1. What is Python , and why is it popular?**\n",
        "\n",
        "Ans:Pyhton is a programming lanaguage for creating instructions for the computer to follow.It is popular for various reasons:\n",
        "\n",
        "a.Numbers of library\n",
        "\n",
        "b.Can be used for various purpose\n",
        "\n",
        "c.Easy to understand\n",
        "\n",
        "d.Versatile\n",
        "\n",
        "\n",
        "e.And it has huge active community.\n"
      ],
      "metadata": {
        "id": "mi0G5ghN5uSB"
      }
    },
    {
      "cell_type": "markdown",
      "source": [
        "**2.What is an interpreter in python?**\n",
        "\n",
        "Ans: A python interpreter is a computer program that translates Python code into machine code that a computer can understand and execute.The interpreter reads and execute Python code line by line translating it into machine code."
      ],
      "metadata": {
        "id": "eNhqyoIk61L0"
      }
    },
    {
      "cell_type": "markdown",
      "source": [
        "**3.What are predefined keywords in python?**\n",
        "\n",
        "\n",
        "Ans: Predefined keywords in pythons are reserved words that have special meanings and cannot be used as an identifier .Some of them are as follows:\n",
        "if,else,elif,for,while,def,import,class,return,True,False etc"
      ],
      "metadata": {
        "id": "Ix-TwR1988ZT"
      }
    },
    {
      "cell_type": "markdown",
      "source": [
        "**4.Can keywords be used as an variable?**\n",
        "\n",
        "Ans:No"
      ],
      "metadata": {
        "id": "qPOIMGSw88xy"
      }
    },
    {
      "cell_type": "markdown",
      "source": [
        "**5.What is mutability in python?**\n",
        "\n",
        "Ans:Mutability in python refers to the ability of an object to be changed after it is created.\n",
        "Exmaple:\n",
        "List\n",
        "Dictionaries\n",
        "Sets\n",
        "\n"
      ],
      "metadata": {
        "id": "r5mQkxbZ9tv-"
      }
    },
    {
      "cell_type": "markdown",
      "source": [
        "**6.Why are list mutable but tuples are immutables?**\n",
        "\n",
        "Ans:Lists are mutable because they are designed to allow modification after creation. This means you can change their content by adding ,removing or modiifying the content in it.\n",
        "\n",
        "While tuples are immutable because their content cannot be changed its useful for the situation where the data is not supposed to be changed."
      ],
      "metadata": {
        "id": "VeRG7i6pHT3m"
      }
    },
    {
      "cell_type": "markdown",
      "source": [
        "**7.What is the difference between\"==\"and \"is\"opeartor?**\n",
        "\n",
        "Ans:\"==\" this is equality operator, it compares the value of two objects to check if they are equal.They checks if the content is same regardless of whether they are sane object in memory or not.\n",
        "\n",
        "\"is\"opeartor is identity opeartor which means they compares the identity of two objects to check if they refer to the same object in memory,use to check if two variables points to the exact same object in memory."
      ],
      "metadata": {
        "id": "tV3A-1LGMTMO"
      }
    },
    {
      "cell_type": "markdown",
      "source": [
        "**8.What are logical operators in python ?**\n",
        "\n",
        "Ans:Logical operators in pythons are used to combine conditional statement, they returns a boolean value based on the logic applied.\n",
        "Logical operators in pythons are AND(returns true if both statements are true), OR(returns true if one of the statements is true)  , NOT(reverse the logical state)"
      ],
      "metadata": {
        "id": "uOY55p7pMTsB"
      }
    },
    {
      "cell_type": "markdown",
      "source": [
        "**9.What is type casting in python?**\n",
        "\n",
        "Ans:The process of converting one data type to another is called as type casting.It allows us to change the data type to maintain compatibility or acheive specific opeartions."
      ],
      "metadata": {
        "id": "mDZ2g_duMU5Q"
      }
    },
    {
      "cell_type": "markdown",
      "source": [
        "**10.What is the difference between implicit and explicit type casting?**\n",
        "\n",
        "Ans:Implicit type casting:Python itself converts the smaller data type into the larger one without loss of any information.\n",
        "\n",
        "Explicit type casting:It is manually done by using builtin data types"
      ],
      "metadata": {
        "id": "WUwzyuEfMU2H"
      }
    },
    {
      "cell_type": "markdown",
      "source": [
        "**11.What is the purpose of conditional statement in python?**\n",
        "\n",
        "Ans:The purpose of conditional statement in python is to enable a program to make decision and execute different blocks of code based on specific conditions.\n",
        "They allow a program to respond dynamically to different inputs  states making it more interactive."
      ],
      "metadata": {
        "id": "8maCpHLFMUzh"
      }
    },
    {
      "cell_type": "markdown",
      "source": [
        "**12.How does a elif statment works?**\n",
        "\n",
        "Ans:Elif statement works as a part of conditional statement in python allowing us to test mulitple conditions sequentially.\n",
        "ELif stands foe else and if so if the else statement is not true it executes the if statement."
      ],
      "metadata": {
        "id": "00KsVo3oMUwl"
      }
    },
    {
      "cell_type": "markdown",
      "source": [
        "**13.Difference between for and while loop?**\n",
        "\n",
        "Ans:For loops iterate for a sequence for a predefined number of iterations.When we know the number of iterations then we use for loop.\n",
        "\n",
        "While loop is used when we need to repeat the block of code as long as a condition is true. When the number of iteration is not known we use while loop."
      ],
      "metadata": {
        "id": "kJjvU4I5MUrp"
      }
    },
    {
      "cell_type": "markdown",
      "source": [
        "**14.Describe a scenario where the while loop os more suitable than for loop.**\n",
        "\n",
        "Ans:We use while loop where we dont know the number of iterations beforehand so in the case where we need to check a sensors value in IoT untill it meets a specific threshold.\n",
        "Exmaple:\n",
        "sensor_value=0;\n",
        "while sensor_value <100;\n",
        "sensor_value=get_sensor_data();\n",
        "\n"
      ],
      "metadata": {
        "id": "6yDq1CWGMUja"
      }
    },
    {
      "cell_type": "markdown",
      "source": [
        "#  PRACTICAL QUESTIONS"
      ],
      "metadata": {
        "id": "0Oumhh5mgHHI"
      }
    },
    {
      "cell_type": "code",
      "source": [
        "print(\"HELLO WORLD\")"
      ],
      "metadata": {
        "colab": {
          "base_uri": "https://localhost:8080/"
        },
        "id": "sRxcmlqEgPdk",
        "outputId": "f319b299-2196-4010-c068-422ccb67dcdb"
      },
      "execution_count": 1,
      "outputs": [
        {
          "output_type": "stream",
          "name": "stdout",
          "text": [
            "HELLO WORLD\n"
          ]
        }
      ]
    },
    {
      "cell_type": "code",
      "source": [
        "name=input(\"ENTER YOUR NAME\")\n",
        "age=input(\"ENTER YOUR AGE\")\n",
        "print(\"HELLO\",name,\"YOUR AGE IS\",age)\n"
      ],
      "metadata": {
        "colab": {
          "base_uri": "https://localhost:8080/"
        },
        "id": "cjnVlIcUhq1a",
        "outputId": "9af0ed01-642d-4a78-99f4-46bc17dcdd5d"
      },
      "execution_count": 2,
      "outputs": [
        {
          "output_type": "stream",
          "name": "stdout",
          "text": [
            "ENTER YOUR NAMEADITI\n",
            "ENTER YOUR AGE19\n",
            "HELLO ADITI YOUR AGE IS 19\n"
          ]
        }
      ]
    },
    {
      "cell_type": "code",
      "source": [
        "import keyword\n",
        "print(keyword.kwlist)"
      ],
      "metadata": {
        "colab": {
          "base_uri": "https://localhost:8080/"
        },
        "id": "4eOhPWhuhqzA",
        "outputId": "47878c89-b333-4459-8278-8aed06502ea8"
      },
      "execution_count": 5,
      "outputs": [
        {
          "output_type": "stream",
          "name": "stdout",
          "text": [
            "['False', 'None', 'True', 'and', 'as', 'assert', 'async', 'await', 'break', 'class', 'continue', 'def', 'del', 'elif', 'else', 'except', 'finally', 'for', 'from', 'global', 'if', 'import', 'in', 'is', 'lambda', 'nonlocal', 'not', 'or', 'pass', 'raise', 'return', 'try', 'while', 'with', 'yield']\n"
          ]
        }
      ]
    },
    {
      "cell_type": "code",
      "source": [
        "word=input(\"ENTER A WORD\")\n",
        "if keyword.iskeyword(word):\n",
        "  print(word,\"is a keyword\")\n",
        "else:\n",
        "  print(word,\"is not a keyword\")"
      ],
      "metadata": {
        "colab": {
          "base_uri": "https://localhost:8080/"
        },
        "id": "yVNvNhdQhqwq",
        "outputId": "67cf03c1-de4a-4d73-f2a2-8f719dc7c8e8"
      },
      "execution_count": 7,
      "outputs": [
        {
          "output_type": "stream",
          "name": "stdout",
          "text": [
            "ENTER A WORDlist\n",
            "list is not a keyword\n"
          ]
        }
      ]
    },
    {
      "cell_type": "code",
      "source": [
        "my_list=[1,2,3,4,5]\n",
        "my_tuple=(1,2,3,4,5)\n",
        "append_list=my_list.append(6)\n",
        "append_tuple=my_tuple.append(6)\n",
        "print(my_list)\n",
        "print(my_tuple)"
      ],
      "metadata": {
        "colab": {
          "base_uri": "https://localhost:8080/",
          "height": 207
        },
        "id": "FxU-dQa8hquG",
        "outputId": "d9c0ade0-1043-4b3c-c21f-4d5ca95b1673"
      },
      "execution_count": 8,
      "outputs": [
        {
          "output_type": "error",
          "ename": "AttributeError",
          "evalue": "'tuple' object has no attribute 'append'",
          "traceback": [
            "\u001b[0;31m---------------------------------------------------------------------------\u001b[0m",
            "\u001b[0;31mAttributeError\u001b[0m                            Traceback (most recent call last)",
            "\u001b[0;32m<ipython-input-8-455fd2267e23>\u001b[0m in \u001b[0;36m<cell line: 4>\u001b[0;34m()\u001b[0m\n\u001b[1;32m      2\u001b[0m \u001b[0mmy_tuple\u001b[0m\u001b[0;34m=\u001b[0m\u001b[0;34m(\u001b[0m\u001b[0;36m1\u001b[0m\u001b[0;34m,\u001b[0m\u001b[0;36m2\u001b[0m\u001b[0;34m,\u001b[0m\u001b[0;36m3\u001b[0m\u001b[0;34m,\u001b[0m\u001b[0;36m4\u001b[0m\u001b[0;34m,\u001b[0m\u001b[0;36m5\u001b[0m\u001b[0;34m)\u001b[0m\u001b[0;34m\u001b[0m\u001b[0;34m\u001b[0m\u001b[0m\n\u001b[1;32m      3\u001b[0m \u001b[0mappend_list\u001b[0m\u001b[0;34m=\u001b[0m\u001b[0mmy_list\u001b[0m\u001b[0;34m.\u001b[0m\u001b[0mappend\u001b[0m\u001b[0;34m(\u001b[0m\u001b[0;36m6\u001b[0m\u001b[0;34m)\u001b[0m\u001b[0;34m\u001b[0m\u001b[0;34m\u001b[0m\u001b[0m\n\u001b[0;32m----> 4\u001b[0;31m \u001b[0mappend_tuple\u001b[0m\u001b[0;34m=\u001b[0m\u001b[0mmy_tuple\u001b[0m\u001b[0;34m.\u001b[0m\u001b[0mappend\u001b[0m\u001b[0;34m(\u001b[0m\u001b[0;36m6\u001b[0m\u001b[0;34m)\u001b[0m\u001b[0;34m\u001b[0m\u001b[0;34m\u001b[0m\u001b[0m\n\u001b[0m\u001b[1;32m      5\u001b[0m \u001b[0mprint\u001b[0m\u001b[0;34m(\u001b[0m\u001b[0mmy_list\u001b[0m\u001b[0;34m)\u001b[0m\u001b[0;34m\u001b[0m\u001b[0;34m\u001b[0m\u001b[0m\n\u001b[1;32m      6\u001b[0m \u001b[0mprint\u001b[0m\u001b[0;34m(\u001b[0m\u001b[0mmy_tuple\u001b[0m\u001b[0;34m)\u001b[0m\u001b[0;34m\u001b[0m\u001b[0;34m\u001b[0m\u001b[0m\n",
            "\u001b[0;31mAttributeError\u001b[0m: 'tuple' object has no attribute 'append'"
          ]
        }
      ]
    },
    {
      "cell_type": "code",
      "source": [
        "def my_function():\n",
        "  x+=1\n",
        "  print(x)\n",
        "  my_function()"
      ],
      "metadata": {
        "id": "z7Fzo7n1hqsZ"
      },
      "execution_count": null,
      "outputs": []
    },
    {
      "cell_type": "code",
      "source": [
        "my_list = [1, 2, 3]\n",
        "print(\"Original List:\", my_list)\n",
        "my_list.append(4)\n",
        "print(\"Modified List:\", my_list)\n",
        "my_string = \"Hello\"\n",
        "print(\"Original String:\", my_string)\n",
        "my_string = my_string + \" World\"\n",
        "print(\"Modified String:\", my_string)\n"
      ],
      "metadata": {
        "colab": {
          "base_uri": "https://localhost:8080/"
        },
        "id": "O2sTYj2mnT1n",
        "outputId": "ef3afabc-86fa-4013-d94b-fafe0831fd91"
      },
      "execution_count": 21,
      "outputs": [
        {
          "output_type": "stream",
          "name": "stdout",
          "text": [
            "Original List: [1, 2, 3]\n",
            "Modified List: [1, 2, 3, 4]\n",
            "Original String: Hello\n",
            "Modified String: Hello World\n"
          ]
        }
      ]
    },
    {
      "cell_type": "code",
      "source": [
        "a = 5\n",
        "b = 10\n",
        "c = 15\n",
        "\n",
        "\n",
        "print(a < b and b < c)\n",
        "\n",
        "\n",
        "print(a > b or b < c)\n",
        "\n",
        "\n",
        "print(not (a > b))"
      ],
      "metadata": {
        "colab": {
          "base_uri": "https://localhost:8080/"
        },
        "id": "HlV47yqqnTyc",
        "outputId": "2dd6e1bc-9f7f-4e76-f4de-b134d9c284b2"
      },
      "execution_count": 9,
      "outputs": [
        {
          "output_type": "stream",
          "name": "stdout",
          "text": [
            "True\n",
            "True\n",
            "True\n"
          ]
        }
      ]
    },
    {
      "cell_type": "code",
      "source": [
        "user=input(\"ENTER NUMBER\")\n",
        "B=float(user)\n",
        "print(b)\n",
        "C=int(user)\n",
        "print(C)\n",
        "D=bool(user)\n",
        "print(D)"
      ],
      "metadata": {
        "colab": {
          "base_uri": "https://localhost:8080/"
        },
        "id": "sljMd3urnTwZ",
        "outputId": "11ea65f9-3e01-4fae-97a0-a8de2b187963"
      },
      "execution_count": 10,
      "outputs": [
        {
          "output_type": "stream",
          "name": "stdout",
          "text": [
            "ENTER NUMBER8\n",
            "10\n",
            "8\n",
            "True\n"
          ]
        }
      ]
    },
    {
      "cell_type": "code",
      "source": [
        "my_list=[\"1\",\"2\",\"3\",\"4\"]\n",
        "converted_list=[int(item)for item in my_list ]\n",
        "print(converted_list)"
      ],
      "metadata": {
        "colab": {
          "base_uri": "https://localhost:8080/"
        },
        "id": "64a0g1MTobA2",
        "outputId": "8a0be1e7-3548-420d-cb20-cc92e3e80f41"
      },
      "execution_count": 13,
      "outputs": [
        {
          "output_type": "stream",
          "name": "stdout",
          "text": [
            "[1, 2, 3, 4]\n"
          ]
        }
      ]
    },
    {
      "cell_type": "code",
      "source": [
        "user=int(input(\"enter a number\"))\n",
        "if(user > 0):\n",
        "  print(\"positive\")\n",
        "elif(user < 0):\n",
        "  print(\"negative\")\n",
        "else:\n",
        "    print(\"zero\")\n"
      ],
      "metadata": {
        "colab": {
          "base_uri": "https://localhost:8080/"
        },
        "id": "7fG5BoT2oa-A",
        "outputId": "a08b780d-dc0b-4919-ea3d-3f9c07627957"
      },
      "execution_count": 16,
      "outputs": [
        {
          "output_type": "stream",
          "name": "stdout",
          "text": [
            "enter a number4\n",
            "positive\n"
          ]
        }
      ]
    },
    {
      "cell_type": "code",
      "source": [
        "for i in range(1, 11):\n",
        "    print(i)\n"
      ],
      "metadata": {
        "colab": {
          "base_uri": "https://localhost:8080/"
        },
        "id": "6H4-9H5Qoa7I",
        "outputId": "602c50e2-2866-4813-e1e8-23fa2cd2f0ca"
      },
      "execution_count": 17,
      "outputs": [
        {
          "output_type": "stream",
          "name": "stdout",
          "text": [
            "1\n",
            "2\n",
            "3\n",
            "4\n",
            "5\n",
            "6\n",
            "7\n",
            "8\n",
            "9\n",
            "10\n"
          ]
        }
      ]
    },
    {
      "cell_type": "code",
      "source": [
        "sum_even = sum(i for i in range(1, 51) if i % 2 == 0)\n",
        "print(\"Sum of all even numbers between 1 and 50:\", sum_even)\n"
      ],
      "metadata": {
        "colab": {
          "base_uri": "https://localhost:8080/"
        },
        "id": "vK00KwPRoa4X",
        "outputId": "42636664-7399-4ac2-9be9-ea6cad9b49c0"
      },
      "execution_count": 18,
      "outputs": [
        {
          "output_type": "stream",
          "name": "stdout",
          "text": [
            "Sum of all even numbers between 1 and 50: 650\n"
          ]
        }
      ]
    },
    {
      "cell_type": "code",
      "source": [
        "string = input(\"Enter a string: \")\n",
        "reversed_string = \"\"\n",
        "index = len(string) - 1\n",
        "\n",
        "while index >= 0:\n",
        "    reversed_string += string[index]\n",
        "    index -= 1\n",
        "\n",
        "print(\"Reversed String:\", reversed_string)\n"
      ],
      "metadata": {
        "colab": {
          "base_uri": "https://localhost:8080/"
        },
        "id": "QieHDWwwq8dQ",
        "outputId": "1233463c-c61c-40a9-841f-8cef1e9ff2c1"
      },
      "execution_count": 19,
      "outputs": [
        {
          "output_type": "stream",
          "name": "stdout",
          "text": [
            "Enter a string: hello\n",
            "Reversed String: olleh\n"
          ]
        }
      ]
    },
    {
      "cell_type": "code",
      "source": [
        "\n",
        "num = int(input(\"Enter a non-negative integer: \"))\n",
        "\n",
        "\n",
        "factorial = 1\n",
        "i = 1\n",
        "\n",
        "if num < 0:\n",
        "    print(\"Factorial is not defined for negative numbers.\")\n",
        "elif num == 0:\n",
        "    print(\"The factorial of 0 is 1.\")\n",
        "else:\n",
        "    while i <= num:\n",
        "        factorial *= i\n",
        "        i += 1\n",
        "    print(f\"The factorial of {num} is {factorial}.\")\n"
      ],
      "metadata": {
        "colab": {
          "base_uri": "https://localhost:8080/"
        },
        "id": "7-bly1NYq8aZ",
        "outputId": "c2b61a5b-a3a2-4119-f26b-2cf4bbad6e0f"
      },
      "execution_count": 20,
      "outputs": [
        {
          "output_type": "stream",
          "name": "stdout",
          "text": [
            "Enter a non-negative integer: 6\n",
            "The factorial of 6 is 720.\n"
          ]
        }
      ]
    },
    {
      "cell_type": "code",
      "source": [],
      "metadata": {
        "id": "vRcOmEJ4q8X2"
      },
      "execution_count": null,
      "outputs": []
    },
    {
      "cell_type": "markdown",
      "source": [],
      "metadata": {
        "id": "109I6XNinTac"
      }
    }
  ]
}